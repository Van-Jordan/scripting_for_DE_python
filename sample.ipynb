{
 "cells": [
  {
   "cell_type": "code",
   "execution_count": null,
   "id": "8dce5181",
   "metadata": {},
   "outputs": [],
   "source": []
  },
  {
   "cell_type": "code",
   "execution_count": null,
   "id": "580b27aa",
   "metadata": {},
   "outputs": [],
   "source": []
  },
  {
   "cell_type": "code",
   "execution_count": 8,
   "id": "dc172e17",
   "metadata": {},
   "outputs": [
    {
     "data": {
      "text/plain": [
       "[['Melissa', 'Douglas'],\n",
       " ['Kyle', 'Gregory'],\n",
       " ['Kimberly', 'Wilson'],\n",
       " ['Jessica', 'Horton'],\n",
       " ['Darius', 'Jensen'],\n",
       " ['Beth', 'Marks'],\n",
       " ['Megan', 'Scott'],\n",
       " ['Adrienne', 'Harding'],\n",
       " ['Kevin', 'James'],\n",
       " ['Daniel', 'Yates'],\n",
       " ['Adam', 'Meyer'],\n",
       " ['Gloria', 'Johnson'],\n",
       " ['Tyler', 'Tucker'],\n",
       " ['Travis', 'Swanson'],\n",
       " ['Elizabeth', 'Thomas'],\n",
       " ['Anthony', 'Walker'],\n",
       " ['Paul', 'Austin'],\n",
       " ['Paul', 'Pearson'],\n",
       " ['Morgan', 'Nelson'],\n",
       " ['Stephanie', 'Davidson'],\n",
       " ['Sarah', 'Gonzales'],\n",
       " ['Richard', 'Torres'],\n",
       " ['Marissa', 'Williams'],\n",
       " ['Ashley', 'Foster'],\n",
       " ['Michelle', 'Baker'],\n",
       " ['John', 'Mathews'],\n",
       " ['Taylor', 'Goodman'],\n",
       " ['Michael', 'Frey'],\n",
       " ['William', 'Webb'],\n",
       " ['James', 'Burke'],\n",
       " ['Jennifer', 'Mejia'],\n",
       " ['Sean', 'Lang'],\n",
       " ['Reginald', 'Daniels'],\n",
       " ['Victoria', 'Moss'],\n",
       " ['Amy', 'Becker'],\n",
       " ['Julie', 'Raymond'],\n",
       " ['Anthony', 'Mcdaniel'],\n",
       " ['Mitchell', 'Allen'],\n",
       " ['Dawn', 'Mccormick'],\n",
       " ['Rebecca', 'Gonzalez'],\n",
       " ['Robert', 'Lyons'],\n",
       " ['Carla', 'Maxwell'],\n",
       " ['Christopher', 'Frederick'],\n",
       " ['Christine', 'Mathews'],\n",
       " ['Richard', 'Smith'],\n",
       " ['Jessica', 'Tyler'],\n",
       " ['Matthew', 'Cummings'],\n",
       " ['Keith', 'Floyd'],\n",
       " ['Kelly', 'Lewis'],\n",
       " ['Randy', 'Wallace'],\n",
       " ['Donna', 'Fischer'],\n",
       " ['Tony', 'Riley'],\n",
       " ['Kelly', 'Graham'],\n",
       " ['Joshua', 'Alvarez'],\n",
       " ['Michele', 'Valenzuela'],\n",
       " ['Cynthia', 'Walker'],\n",
       " ['Anthony', 'Weber'],\n",
       " ['Thomas', 'Cross'],\n",
       " ['Maria', 'Haynes'],\n",
       " ['Veronica', 'Martinez'],\n",
       " ['Barbara', 'Prince'],\n",
       " ['Olivia', 'Fitzgerald'],\n",
       " ['Marcus', 'Le'],\n",
       " ['Jesse', 'Reynolds'],\n",
       " ['Kendra', 'Arellano'],\n",
       " ['Marcia', 'King'],\n",
       " ['Jason', 'Hicks'],\n",
       " ['Philip', 'Garza'],\n",
       " ['Jennifer', 'Allen'],\n",
       " ['Michael', 'Smith'],\n",
       " ['Jorge', 'Patterson'],\n",
       " ['Laura', 'Greene'],\n",
       " ['Alicia', 'Sweeney'],\n",
       " ['Michael', 'Coleman'],\n",
       " ['James', 'Mckinney'],\n",
       " ['Haley', 'Perez'],\n",
       " ['Roger', 'Tran'],\n",
       " ['Patricia', 'Lin'],\n",
       " ['Ronald', 'Castillo'],\n",
       " ['Linda', 'Donaldson'],\n",
       " ['Kathy', 'Gentry'],\n",
       " ['Sandra', 'Escobar'],\n",
       " ['Kathy', 'Miller'],\n",
       " ['Brandon', 'Ramos'],\n",
       " ['James', 'Hester'],\n",
       " ['Laura', 'Wade'],\n",
       " ['Kimberly', 'Singleton'],\n",
       " ['Regina', 'Mccann'],\n",
       " ['James', 'Cox'],\n",
       " ['Gina', 'Johnson'],\n",
       " ['Sheila', 'Russell'],\n",
       " ['John', 'Fox'],\n",
       " ['Melissa', 'Nguyen'],\n",
       " ['Jonathan', 'Moss'],\n",
       " ['Nicholas', 'Hoffman'],\n",
       " ['Paul', 'Anderson']]"
      ]
     },
     "execution_count": 8,
     "metadata": {},
     "output_type": "execute_result"
    }
   ],
   "source": [
    "from faker import Faker\n",
    "fake = Faker()\n",
    "names = [fake.name().split() for i in range(100)]\n",
    "names = [name for name in names if len(name) == 2]\n",
    "names"
   ]
  },
  {
   "cell_type": "code",
   "execution_count": 9,
   "id": "427dda2a",
   "metadata": {},
   "outputs": [],
   "source": [
    "import sqlite3\n",
    "conn = sqlite3.connect('sample.db')"
   ]
  },
  {
   "cell_type": "code",
   "execution_count": 10,
   "id": "8348ea58",
   "metadata": {},
   "outputs": [],
   "source": [
    "query = 'INSERT INTO users(name,surname) VALUES(?,?)'\n",
    "cursor = conn.cursor()\n",
    "for name in names:\n",
    "    cursor.execute(query, name)\n",
    "conn.commit()"
   ]
  },
  {
   "cell_type": "code",
   "execution_count": null,
   "id": "3659858c",
   "metadata": {},
   "outputs": [],
   "source": [
    "select_query = 'SELECT * FROM users'\n",
    "for i in cursor.execute(select_query):\n",
    "    print(i)"
   ]
  }
 ],
 "metadata": {
  "kernelspec": {
   "display_name": ".venv",
   "language": "python",
   "name": "python3"
  },
  "language_info": {
   "codemirror_mode": {
    "name": "ipython",
    "version": 3
   },
   "file_extension": ".py",
   "mimetype": "text/x-python",
   "name": "python",
   "nbconvert_exporter": "python",
   "pygments_lexer": "ipython3",
   "version": "3.13.2"
  }
 },
 "nbformat": 4,
 "nbformat_minor": 5
}
