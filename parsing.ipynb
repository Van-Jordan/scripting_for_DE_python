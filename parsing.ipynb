{
 "cells": [
  {
   "cell_type": "code",
   "execution_count": null,
   "id": "f4af0be4",
   "metadata": {},
   "outputs": [],
   "source": [
    "from html.parser import HTMLParser\n",
    "\n",
    "class Parser(HTMLParser):\n",
    "    def __init__(self):\n",
    "        super().__init__()\n",
    "        self.recording = False\n",
    "\n",
    "    def handle_starttag(self, tag, attrs):\n",
    "        if tag == 'a':\n",
    "            self.recording = True\n",
    "        else:\n",
    "            self.recording = False\n",
    "\n",
    "    def handle_data(self, data):\n",
    "        if self.recording:\n",
    "            print(f\"Found <a> tag info {data}\")\n",
    "            self.recording = False"
   ]
  },
  {
   "cell_type": "code",
   "execution_count": 7,
   "id": "4f9beec8",
   "metadata": {},
   "outputs": [
    {
     "name": "stdout",
     "output_type": "stream",
     "text": [
      "Found <a> tag info Google\n"
     ]
    }
   ],
   "source": [
    "p = Parser()\n",
    "p.feed('<html><body><a href=\"http://google.com\">Google</a></body></html>')\n",
    "\n"
   ]
  }
 ],
 "metadata": {
  "kernelspec": {
   "display_name": ".venv",
   "language": "python",
   "name": "python3"
  },
  "language_info": {
   "codemirror_mode": {
    "name": "ipython",
    "version": 3
   },
   "file_extension": ".py",
   "mimetype": "text/x-python",
   "name": "python",
   "nbconvert_exporter": "python",
   "pygments_lexer": "ipython3",
   "version": "3.13.2"
  }
 },
 "nbformat": 4,
 "nbformat_minor": 5
}
